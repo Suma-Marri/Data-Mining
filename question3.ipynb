{
 "cells": [
  {
   "cell_type": "code",
   "execution_count": 1,
   "id": "822be97b",
   "metadata": {},
   "outputs": [],
   "source": [
    "import numpy as np\n",
    "import pandas as pd\n",
    "import matplotlib.pyplot as plt\n",
    "import seaborn as sns\n",
    "from sklearn.tree import DecisionTreeRegressor"
   ]
  },
  {
   "cell_type": "code",
   "execution_count": 2,
   "id": "8a28fbbc",
   "metadata": {},
   "outputs": [],
   "source": [
    "data = pd.read_csv(\"ACT_07_Data.csv\")"
   ]
  },
  {
   "cell_type": "markdown",
   "id": "488c4cb8",
   "metadata": {},
   "source": [
    "Understanding the data..."
   ]
  },
  {
   "cell_type": "code",
   "execution_count": 3,
   "id": "6a59ebff",
   "metadata": {},
   "outputs": [
    {
     "data": {
      "text/html": [
       "<div>\n",
       "<style scoped>\n",
       "    .dataframe tbody tr th:only-of-type {\n",
       "        vertical-align: middle;\n",
       "    }\n",
       "\n",
       "    .dataframe tbody tr th {\n",
       "        vertical-align: top;\n",
       "    }\n",
       "\n",
       "    .dataframe thead th {\n",
       "        text-align: right;\n",
       "    }\n",
       "</style>\n",
       "<table border=\"1\" class=\"dataframe\">\n",
       "  <thead>\n",
       "    <tr style=\"text-align: right;\">\n",
       "      <th></th>\n",
       "      <th>ID</th>\n",
       "      <th>LotArea</th>\n",
       "      <th>TotalBsmtSF</th>\n",
       "      <th>GarageCars</th>\n",
       "      <th>AGE</th>\n",
       "      <th>TotalArea</th>\n",
       "      <th>SalePrice</th>\n",
       "    </tr>\n",
       "  </thead>\n",
       "  <tbody>\n",
       "    <tr>\n",
       "      <th>0</th>\n",
       "      <td>1</td>\n",
       "      <td>12108</td>\n",
       "      <td>1440</td>\n",
       "      <td>0</td>\n",
       "      <td>53</td>\n",
       "      <td>1440</td>\n",
       "      <td>118000</td>\n",
       "    </tr>\n",
       "    <tr>\n",
       "      <th>1</th>\n",
       "      <td>2</td>\n",
       "      <td>9400</td>\n",
       "      <td>945</td>\n",
       "      <td>0</td>\n",
       "      <td>31</td>\n",
       "      <td>980</td>\n",
       "      <td>127500</td>\n",
       "    </tr>\n",
       "    <tr>\n",
       "      <th>2</th>\n",
       "      <td>3</td>\n",
       "      <td>1680</td>\n",
       "      <td>672</td>\n",
       "      <td>0</td>\n",
       "      <td>35</td>\n",
       "      <td>1218</td>\n",
       "      <td>91500</td>\n",
       "    </tr>\n",
       "    <tr>\n",
       "      <th>3</th>\n",
       "      <td>4</td>\n",
       "      <td>8430</td>\n",
       "      <td>1040</td>\n",
       "      <td>0</td>\n",
       "      <td>31</td>\n",
       "      <td>1040</td>\n",
       "      <td>124000</td>\n",
       "    </tr>\n",
       "    <tr>\n",
       "      <th>4</th>\n",
       "      <td>5</td>\n",
       "      <td>7500</td>\n",
       "      <td>1080</td>\n",
       "      <td>0</td>\n",
       "      <td>4</td>\n",
       "      <td>1080</td>\n",
       "      <td>141000</td>\n",
       "    </tr>\n",
       "  </tbody>\n",
       "</table>\n",
       "</div>"
      ],
      "text/plain": [
       "   ID  LotArea  TotalBsmtSF  GarageCars  AGE  TotalArea  SalePrice\n",
       "0   1    12108         1440           0   53       1440     118000\n",
       "1   2     9400          945           0   31        980     127500\n",
       "2   3     1680          672           0   35       1218      91500\n",
       "3   4     8430         1040           0   31       1040     124000\n",
       "4   5     7500         1080           0    4       1080     141000"
      ]
     },
     "execution_count": 3,
     "metadata": {},
     "output_type": "execute_result"
    }
   ],
   "source": [
    "data.head()"
   ]
  },
  {
   "cell_type": "code",
   "execution_count": 4,
   "id": "363917d7",
   "metadata": {},
   "outputs": [
    {
     "data": {
      "text/plain": [
       "(1460, 7)"
      ]
     },
     "execution_count": 4,
     "metadata": {},
     "output_type": "execute_result"
    }
   ],
   "source": [
    "data.shape"
   ]
  },
  {
   "cell_type": "code",
   "execution_count": 5,
   "id": "a499cc56",
   "metadata": {},
   "outputs": [
    {
     "name": "stdout",
     "output_type": "stream",
     "text": [
      "<class 'pandas.core.frame.DataFrame'>\n",
      "RangeIndex: 1460 entries, 0 to 1459\n",
      "Data columns (total 7 columns):\n",
      " #   Column       Non-Null Count  Dtype\n",
      "---  ------       --------------  -----\n",
      " 0   ID           1460 non-null   int64\n",
      " 1   LotArea      1460 non-null   int64\n",
      " 2   TotalBsmtSF  1460 non-null   int64\n",
      " 3   GarageCars   1460 non-null   int64\n",
      " 4   AGE          1460 non-null   int64\n",
      " 5   TotalArea    1460 non-null   int64\n",
      " 6   SalePrice    1460 non-null   int64\n",
      "dtypes: int64(7)\n",
      "memory usage: 80.0 KB\n"
     ]
    }
   ],
   "source": [
    "data.info()"
   ]
  },
  {
   "cell_type": "code",
   "execution_count": 6,
   "id": "9457c715",
   "metadata": {},
   "outputs": [
    {
     "data": {
      "text/html": [
       "<div>\n",
       "<style scoped>\n",
       "    .dataframe tbody tr th:only-of-type {\n",
       "        vertical-align: middle;\n",
       "    }\n",
       "\n",
       "    .dataframe tbody tr th {\n",
       "        vertical-align: top;\n",
       "    }\n",
       "\n",
       "    .dataframe thead th {\n",
       "        text-align: right;\n",
       "    }\n",
       "</style>\n",
       "<table border=\"1\" class=\"dataframe\">\n",
       "  <thead>\n",
       "    <tr style=\"text-align: right;\">\n",
       "      <th></th>\n",
       "      <th>ID</th>\n",
       "      <th>LotArea</th>\n",
       "      <th>TotalBsmtSF</th>\n",
       "      <th>GarageCars</th>\n",
       "      <th>AGE</th>\n",
       "      <th>TotalArea</th>\n",
       "      <th>SalePrice</th>\n",
       "    </tr>\n",
       "  </thead>\n",
       "  <tbody>\n",
       "    <tr>\n",
       "      <th>count</th>\n",
       "      <td>1460.000000</td>\n",
       "      <td>1460.000000</td>\n",
       "      <td>1460.000000</td>\n",
       "      <td>1460.000000</td>\n",
       "      <td>1460.000000</td>\n",
       "      <td>1460.000000</td>\n",
       "      <td>1460.000000</td>\n",
       "    </tr>\n",
       "    <tr>\n",
       "      <th>mean</th>\n",
       "      <td>730.500000</td>\n",
       "      <td>10516.828082</td>\n",
       "      <td>1057.429452</td>\n",
       "      <td>1.767123</td>\n",
       "      <td>36.547945</td>\n",
       "      <td>1509.619178</td>\n",
       "      <td>180921.195890</td>\n",
       "    </tr>\n",
       "    <tr>\n",
       "      <th>std</th>\n",
       "      <td>421.610009</td>\n",
       "      <td>9981.264932</td>\n",
       "      <td>438.705324</td>\n",
       "      <td>0.747315</td>\n",
       "      <td>30.250152</td>\n",
       "      <td>521.163523</td>\n",
       "      <td>79442.502883</td>\n",
       "    </tr>\n",
       "    <tr>\n",
       "      <th>min</th>\n",
       "      <td>1.000000</td>\n",
       "      <td>1300.000000</td>\n",
       "      <td>0.000000</td>\n",
       "      <td>0.000000</td>\n",
       "      <td>0.000000</td>\n",
       "      <td>334.000000</td>\n",
       "      <td>34900.000000</td>\n",
       "    </tr>\n",
       "    <tr>\n",
       "      <th>25%</th>\n",
       "      <td>365.750000</td>\n",
       "      <td>7553.500000</td>\n",
       "      <td>795.750000</td>\n",
       "      <td>1.000000</td>\n",
       "      <td>8.000000</td>\n",
       "      <td>1123.750000</td>\n",
       "      <td>129975.000000</td>\n",
       "    </tr>\n",
       "    <tr>\n",
       "      <th>50%</th>\n",
       "      <td>730.500000</td>\n",
       "      <td>9478.500000</td>\n",
       "      <td>991.500000</td>\n",
       "      <td>2.000000</td>\n",
       "      <td>35.000000</td>\n",
       "      <td>1458.000000</td>\n",
       "      <td>163000.000000</td>\n",
       "    </tr>\n",
       "    <tr>\n",
       "      <th>75%</th>\n",
       "      <td>1095.250000</td>\n",
       "      <td>11601.500000</td>\n",
       "      <td>1298.250000</td>\n",
       "      <td>2.000000</td>\n",
       "      <td>54.000000</td>\n",
       "      <td>1775.250000</td>\n",
       "      <td>214000.000000</td>\n",
       "    </tr>\n",
       "    <tr>\n",
       "      <th>max</th>\n",
       "      <td>1460.000000</td>\n",
       "      <td>215245.000000</td>\n",
       "      <td>6110.000000</td>\n",
       "      <td>4.000000</td>\n",
       "      <td>136.000000</td>\n",
       "      <td>5642.000000</td>\n",
       "      <td>755000.000000</td>\n",
       "    </tr>\n",
       "  </tbody>\n",
       "</table>\n",
       "</div>"
      ],
      "text/plain": [
       "                ID        LotArea  TotalBsmtSF   GarageCars          AGE  \\\n",
       "count  1460.000000    1460.000000  1460.000000  1460.000000  1460.000000   \n",
       "mean    730.500000   10516.828082  1057.429452     1.767123    36.547945   \n",
       "std     421.610009    9981.264932   438.705324     0.747315    30.250152   \n",
       "min       1.000000    1300.000000     0.000000     0.000000     0.000000   \n",
       "25%     365.750000    7553.500000   795.750000     1.000000     8.000000   \n",
       "50%     730.500000    9478.500000   991.500000     2.000000    35.000000   \n",
       "75%    1095.250000   11601.500000  1298.250000     2.000000    54.000000   \n",
       "max    1460.000000  215245.000000  6110.000000     4.000000   136.000000   \n",
       "\n",
       "         TotalArea      SalePrice  \n",
       "count  1460.000000    1460.000000  \n",
       "mean   1509.619178  180921.195890  \n",
       "std     521.163523   79442.502883  \n",
       "min     334.000000   34900.000000  \n",
       "25%    1123.750000  129975.000000  \n",
       "50%    1458.000000  163000.000000  \n",
       "75%    1775.250000  214000.000000  \n",
       "max    5642.000000  755000.000000  "
      ]
     },
     "execution_count": 6,
     "metadata": {},
     "output_type": "execute_result"
    }
   ],
   "source": [
    "data.describe()"
   ]
  },
  {
   "cell_type": "code",
   "execution_count": 7,
   "id": "c1765f74",
   "metadata": {},
   "outputs": [],
   "source": [
    "#id is of no use in prediction hence dropped.\n",
    "data = data.drop('ID',axis=1)\n",
    "y = data['SalePrice'].values"
   ]
  },
  {
   "cell_type": "code",
   "execution_count": 8,
   "id": "a233a1ce",
   "metadata": {},
   "outputs": [
    {
     "data": {
      "text/plain": [
       "array([118000, 127500,  91500, ..., 240000, 135000, 133900], dtype=int64)"
      ]
     },
     "execution_count": 8,
     "metadata": {},
     "output_type": "execute_result"
    }
   ],
   "source": [
    "y"
   ]
  },
  {
   "cell_type": "code",
   "execution_count": 9,
   "id": "43a7dc1c",
   "metadata": {},
   "outputs": [],
   "source": [
    "data = data.drop(\"SalePrice\",axis = 1)\n",
    "X = data.values"
   ]
  },
  {
   "cell_type": "code",
   "execution_count": 10,
   "id": "6a5e0b93",
   "metadata": {},
   "outputs": [
    {
     "data": {
      "text/plain": [
       "array([[12108,  1440,     0,    53,  1440],\n",
       "       [ 9400,   945,     0,    31,   980],\n",
       "       [ 1680,   672,     0,    35,  1218],\n",
       "       ...,\n",
       "       [45600,   907,     2,   100,  2358],\n",
       "       [10320,   756,     1,   102,  1469],\n",
       "       [ 7200,  1214,     2,    97,  2291]], dtype=int64)"
      ]
     },
     "execution_count": 10,
     "metadata": {},
     "output_type": "execute_result"
    }
   ],
   "source": [
    "X"
   ]
  },
  {
   "cell_type": "raw",
   "id": "7b43ad05",
   "metadata": {},
   "source": [
    "def BagofTrees(X,y,ntrees):\n",
    "    predictions=[]\n",
    "    errors = []\n",
    "    n_rows=X.shape[0]\n",
    "    n_cols=X.shape[1]\n",
    "    sumypred=np.zeros(n_rows)\n",
    "        \n",
    "    # STEP 01: Randomly select a sample of size 1,460 with replacement.\n",
    "    \n",
    "    for i in range(ntrees):\n",
    "        \n",
    "        rows=np.random.choice(range(n_rows), n_rows*60//100, replace=True)\n",
    "        sX=X[rows,:]\n",
    "        sy=y[rows].reshape(-1,1)\n",
    "        nrows=np.random.choice(range(n_rows*60//100), n_rows-(n_rows*60//100) , replace=True)\n",
    "        nsX=sX[nrows]\n",
    "        nsy=sy[nrows].reshape(-1,1)\n",
    "        sampX=np.vstack([sX,nsX])\n",
    "        sampy=np.vstack([sy,nsy])\n",
    "        \n",
    "        print(sampX.shape)\n",
    "        \n",
    "        # STEP 02: Build a decision trees model to predict the \"HousePrice\" \n",
    "        clf=DecisionTreeRegressor()\n",
    "        clf.fit(sampX,sampy)\n",
    "        \n",
    "        #keep all the predicted values for each observation\n",
    "        ypred=clf.predict(X)\n",
    "        predictions.append(ypred)\n",
    "        \n",
    "    #calculate the bagging estimator\n",
    "    sumypred=np.zeros(n_rows)\n",
    "    for ypred in predictions:\n",
    "        sumypred=sumypred + ypred      \n",
    "    ybag = 1/ntrees*sumypred\n",
    "    \n",
    "    #calculate the error estimator\n",
    "    sumsqrderror=np.zeros(n_rows)\n",
    "    for ypred in predictions:\n",
    "        sumsqrderror=sumsqrderror + np.square((ypred-ybag))\n",
    "                           \n",
    "    mse = 1/ntrees*sumsqrderror\n",
    "    return predictions, ybag, mse"
   ]
  },
  {
   "cell_type": "raw",
   "id": "f0d17359",
   "metadata": {},
   "source": [
    "BagofTrees(X,y,20)"
   ]
  },
  {
   "cell_type": "code",
   "execution_count": 11,
   "id": "ac1c15f0",
   "metadata": {},
   "outputs": [],
   "source": [
    "ntrees = 20\n",
    "predictions=[]\n",
    "errors = []\n",
    "n_rows=X.shape[0]\n",
    "n_cols=X.shape[1]\n",
    "sumypred=np.zeros(n_rows)\n",
    "        \n",
    "# STEP 01: Randomly select a sample of size 1,460 with replacement.\n",
    "for i in range(ntrees):\n",
    "    rows=np.random.choice(range(n_rows), n_rows*60//100, replace=True)\n",
    "    sX=X[rows,:]\n",
    "    sy=y[rows].reshape(-1,1)\n",
    "    nrows=np.random.choice(range(n_rows*60//100), n_rows-(n_rows*60//100) , replace=True)\n",
    "    nsX=sX[nrows]\n",
    "    nsy=sy[nrows].reshape(-1,1)\n",
    "    sampX=np.vstack([sX,nsX])\n",
    "    sampy=np.vstack([sy,nsy])\n",
    "        \n",
    "    # print(sampX.shape)\n",
    "        \n",
    "    # STEP 02: Build a decision trees model to predict the â€œHousePriceâ€ \n",
    "    clf=DecisionTreeRegressor()\n",
    "    clf.fit(sampX,sampy)\n",
    "        \n",
    "    #keep all the predicted values for each observation\n",
    "    ypred=clf.predict(X)\n",
    "    predictions.append(ypred)\n",
    "        \n",
    "#calculate the bagging estimator\n",
    "sumypred=np.zeros(n_rows)\n",
    "for ypred in predictions:\n",
    "    sumypred=sumypred + ypred      \n",
    "ybag = 1/ntrees*sumypred\n",
    "    \n",
    "#calculate the error estimator\n",
    "sumsqrderror=np.zeros(n_rows)\n",
    "for ypred in predictions:\n",
    "    sumsqrderror=sumsqrderror + np.square((ypred-ybag))\n",
    "                           \n",
    "mse = 1/ntrees*sumsqrderror\n",
    "# return predictions, ybag, mse"
   ]
  },
  {
   "cell_type": "code",
   "execution_count": 12,
   "id": "7413f8ec",
   "metadata": {},
   "outputs": [
    {
     "data": {
      "text/plain": [
       "[array([118000., 112000., 113000., ..., 240000., 165000., 133900.]),\n",
       " array([157900., 128000., 118000., ..., 122500., 113000., 259500.]),\n",
       " array([185000., 143750.,  76500., ..., 160000., 135000., 133900.]),\n",
       " array([118000., 108000., 118000., ..., 160000., 135000., 140000.]),\n",
       " array([157500., 115000.,  97000., ..., 240000., 135000., 133900.]),\n",
       " array([118000.,  93500., 113000., ..., 167500., 135000., 133900.]),\n",
       " array([175000., 127500.,  76500., ..., 160000., 135000., 133900.]),\n",
       " array([118000., 130250., 103200., ..., 240000., 135000., 228500.]),\n",
       " array([118000., 127500., 118000., ..., 167500., 137000., 128000.]),\n",
       " array([118000.,  80000., 118000., ..., 160000., 125000., 129500.]),\n",
       " array([157900., 124000.,  91500., ..., 240000.,  97500., 133900.]),\n",
       " array([165000., 127500.,  81000., ..., 122000., 125000., 122000.]),\n",
       " array([165000.,  99500.,  91500., ..., 274970., 135000., 266500.]),\n",
       " array([121500., 127500.,  76500., ..., 220000.,  91500., 133900.]),\n",
       " array([118000., 122000., 118000., ..., 240000., 170000., 133900.]),\n",
       " array([118000., 127500.,  88000., ..., 180000., 104000., 107500.]),\n",
       " array([118000., 127500.,  91500., ..., 240000.,  95000., 124900.]),\n",
       " array([118000., 127500., 119500., ..., 223500., 163000., 225000.]),\n",
       " array([118000., 127500., 113000., ..., 260000., 135000., 136000.]),\n",
       " array([118000., 130250.,  91500., ..., 311500., 128000., 133900.])]"
      ]
     },
     "execution_count": 12,
     "metadata": {},
     "output_type": "execute_result"
    }
   ],
   "source": [
    "predictions"
   ]
  },
  {
   "cell_type": "code",
   "execution_count": 13,
   "id": "2223d1b7",
   "metadata": {},
   "outputs": [
    {
     "data": {
      "text/plain": [
       "array([135040. , 120312.5, 100660. , ..., 206473.5, 129700. , 153625. ])"
      ]
     },
     "execution_count": 13,
     "metadata": {},
     "output_type": "execute_result"
    }
   ],
   "source": [
    "ybag"
   ]
  },
  {
   "cell_type": "code",
   "execution_count": 14,
   "id": "9f0d8af8",
   "metadata": {},
   "outputs": [
    {
     "data": {
      "text/plain": [
       "array([5.55264400e+08, 2.13086719e+08, 2.48426400e+08, ...,\n",
       "       2.61848134e+09, 4.47185000e+08, 2.19201688e+09])"
      ]
     },
     "execution_count": 14,
     "metadata": {},
     "output_type": "execute_result"
    }
   ],
   "source": [
    "mse"
   ]
  },
  {
   "cell_type": "code",
   "execution_count": 15,
   "id": "c3ba60aa",
   "metadata": {},
   "outputs": [
    {
     "data": {
      "text/plain": [
       "Text(0, 0.5, 'Price')"
      ]
     },
     "execution_count": 15,
     "metadata": {},
     "output_type": "execute_result"
    },
    {
     "data": {
      "image/png": "[encoded data removed]",
      "text/plain": [
       "<Figure size 432x288 with 1 Axes>"
      ]
     },
     "metadata": {
      "needs_background": "light"
     },
     "output_type": "display_data"
    }
   ],
   "source": [
    "#boxplot for all 20 bagging predictions\n",
    "sns.boxplot(y = np.array(predictions))\n",
    "plt.ylabel(\"Price\")"
   ]
  },
  {
   "cell_type": "code",
   "execution_count": null,
   "id": "3e01d96b",
   "metadata": {},
   "outputs": [],
   "source": []
  }
 ],
 "metadata": {
  "kernelspec": {
   "display_name": "Python 3 (ipykernel)",
   "language": "python",
   "name": "python3"
  },
  "language_info": {
   "codemirror_mode": {
    "name": "ipython",
    "version": 3
   },
   "file_extension": ".py",
   "mimetype": "text/x-python",
   "name": "python",
   "nbconvert_exporter": "python",
   "pygments_lexer": "ipython3",
   "version": "3.9.7"
  }
 },
 "nbformat": 4,
 "nbformat_minor": 5
}
